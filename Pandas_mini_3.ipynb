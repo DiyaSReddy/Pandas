{
  "nbformat": 4,
  "nbformat_minor": 0,
  "metadata": {
    "colab": {
      "provenance": [],
      "authorship_tag": "ABX9TyMp6ZlIS4uRZloCbG+WsQTM",
      "include_colab_link": true
    },
    "kernelspec": {
      "name": "python3",
      "display_name": "Python 3"
    },
    "language_info": {
      "name": "python"
    }
  },
  "cells": [
    {
      "cell_type": "markdown",
      "metadata": {
        "id": "view-in-github",
        "colab_type": "text"
      },
      "source": [
        "<a href=\"https://colab.research.google.com/github/DiyaSReddy/Pandas/blob/main/Pandas_mini_3.ipynb\" target=\"_parent\"><img src=\"https://colab.research.google.com/assets/colab-badge.svg\" alt=\"Open In Colab\"/></a>"
      ]
    },
    {
      "cell_type": "code",
      "execution_count": null,
      "metadata": {
        "colab": {
          "base_uri": "https://localhost:8080/",
          "height": 73
        },
        "id": "fcEn7r55lZ-W",
        "outputId": "74f63e6e-30ef-416e-b1df-56e8de3388e6"
      },
      "outputs": [
        {
          "output_type": "display_data",
          "data": {
            "text/plain": [
              "<IPython.core.display.HTML object>"
            ],
            "text/html": [
              "\n",
              "     <input type=\"file\" id=\"files-a1e9ae71-30dc-4583-a691-22149c39ed15\" name=\"files[]\" multiple disabled\n",
              "        style=\"border:none\" />\n",
              "     <output id=\"result-a1e9ae71-30dc-4583-a691-22149c39ed15\">\n",
              "      Upload widget is only available when the cell has been executed in the\n",
              "      current browser session. Please rerun this cell to enable.\n",
              "      </output>\n",
              "      <script>// Copyright 2017 Google LLC\n",
              "//\n",
              "// Licensed under the Apache License, Version 2.0 (the \"License\");\n",
              "// you may not use this file except in compliance with the License.\n",
              "// You may obtain a copy of the License at\n",
              "//\n",
              "//      http://www.apache.org/licenses/LICENSE-2.0\n",
              "//\n",
              "// Unless required by applicable law or agreed to in writing, software\n",
              "// distributed under the License is distributed on an \"AS IS\" BASIS,\n",
              "// WITHOUT WARRANTIES OR CONDITIONS OF ANY KIND, either express or implied.\n",
              "// See the License for the specific language governing permissions and\n",
              "// limitations under the License.\n",
              "\n",
              "/**\n",
              " * @fileoverview Helpers for google.colab Python module.\n",
              " */\n",
              "(function(scope) {\n",
              "function span(text, styleAttributes = {}) {\n",
              "  const element = document.createElement('span');\n",
              "  element.textContent = text;\n",
              "  for (const key of Object.keys(styleAttributes)) {\n",
              "    element.style[key] = styleAttributes[key];\n",
              "  }\n",
              "  return element;\n",
              "}\n",
              "\n",
              "// Max number of bytes which will be uploaded at a time.\n",
              "const MAX_PAYLOAD_SIZE = 100 * 1024;\n",
              "\n",
              "function _uploadFiles(inputId, outputId) {\n",
              "  const steps = uploadFilesStep(inputId, outputId);\n",
              "  const outputElement = document.getElementById(outputId);\n",
              "  // Cache steps on the outputElement to make it available for the next call\n",
              "  // to uploadFilesContinue from Python.\n",
              "  outputElement.steps = steps;\n",
              "\n",
              "  return _uploadFilesContinue(outputId);\n",
              "}\n",
              "\n",
              "// This is roughly an async generator (not supported in the browser yet),\n",
              "// where there are multiple asynchronous steps and the Python side is going\n",
              "// to poll for completion of each step.\n",
              "// This uses a Promise to block the python side on completion of each step,\n",
              "// then passes the result of the previous step as the input to the next step.\n",
              "function _uploadFilesContinue(outputId) {\n",
              "  const outputElement = document.getElementById(outputId);\n",
              "  const steps = outputElement.steps;\n",
              "\n",
              "  const next = steps.next(outputElement.lastPromiseValue);\n",
              "  return Promise.resolve(next.value.promise).then((value) => {\n",
              "    // Cache the last promise value to make it available to the next\n",
              "    // step of the generator.\n",
              "    outputElement.lastPromiseValue = value;\n",
              "    return next.value.response;\n",
              "  });\n",
              "}\n",
              "\n",
              "/**\n",
              " * Generator function which is called between each async step of the upload\n",
              " * process.\n",
              " * @param {string} inputId Element ID of the input file picker element.\n",
              " * @param {string} outputId Element ID of the output display.\n",
              " * @return {!Iterable<!Object>} Iterable of next steps.\n",
              " */\n",
              "function* uploadFilesStep(inputId, outputId) {\n",
              "  const inputElement = document.getElementById(inputId);\n",
              "  inputElement.disabled = false;\n",
              "\n",
              "  const outputElement = document.getElementById(outputId);\n",
              "  outputElement.innerHTML = '';\n",
              "\n",
              "  const pickedPromise = new Promise((resolve) => {\n",
              "    inputElement.addEventListener('change', (e) => {\n",
              "      resolve(e.target.files);\n",
              "    });\n",
              "  });\n",
              "\n",
              "  const cancel = document.createElement('button');\n",
              "  inputElement.parentElement.appendChild(cancel);\n",
              "  cancel.textContent = 'Cancel upload';\n",
              "  const cancelPromise = new Promise((resolve) => {\n",
              "    cancel.onclick = () => {\n",
              "      resolve(null);\n",
              "    };\n",
              "  });\n",
              "\n",
              "  // Wait for the user to pick the files.\n",
              "  const files = yield {\n",
              "    promise: Promise.race([pickedPromise, cancelPromise]),\n",
              "    response: {\n",
              "      action: 'starting',\n",
              "    }\n",
              "  };\n",
              "\n",
              "  cancel.remove();\n",
              "\n",
              "  // Disable the input element since further picks are not allowed.\n",
              "  inputElement.disabled = true;\n",
              "\n",
              "  if (!files) {\n",
              "    return {\n",
              "      response: {\n",
              "        action: 'complete',\n",
              "      }\n",
              "    };\n",
              "  }\n",
              "\n",
              "  for (const file of files) {\n",
              "    const li = document.createElement('li');\n",
              "    li.append(span(file.name, {fontWeight: 'bold'}));\n",
              "    li.append(span(\n",
              "        `(${file.type || 'n/a'}) - ${file.size} bytes, ` +\n",
              "        `last modified: ${\n",
              "            file.lastModifiedDate ? file.lastModifiedDate.toLocaleDateString() :\n",
              "                                    'n/a'} - `));\n",
              "    const percent = span('0% done');\n",
              "    li.appendChild(percent);\n",
              "\n",
              "    outputElement.appendChild(li);\n",
              "\n",
              "    const fileDataPromise = new Promise((resolve) => {\n",
              "      const reader = new FileReader();\n",
              "      reader.onload = (e) => {\n",
              "        resolve(e.target.result);\n",
              "      };\n",
              "      reader.readAsArrayBuffer(file);\n",
              "    });\n",
              "    // Wait for the data to be ready.\n",
              "    let fileData = yield {\n",
              "      promise: fileDataPromise,\n",
              "      response: {\n",
              "        action: 'continue',\n",
              "      }\n",
              "    };\n",
              "\n",
              "    // Use a chunked sending to avoid message size limits. See b/62115660.\n",
              "    let position = 0;\n",
              "    do {\n",
              "      const length = Math.min(fileData.byteLength - position, MAX_PAYLOAD_SIZE);\n",
              "      const chunk = new Uint8Array(fileData, position, length);\n",
              "      position += length;\n",
              "\n",
              "      const base64 = btoa(String.fromCharCode.apply(null, chunk));\n",
              "      yield {\n",
              "        response: {\n",
              "          action: 'append',\n",
              "          file: file.name,\n",
              "          data: base64,\n",
              "        },\n",
              "      };\n",
              "\n",
              "      let percentDone = fileData.byteLength === 0 ?\n",
              "          100 :\n",
              "          Math.round((position / fileData.byteLength) * 100);\n",
              "      percent.textContent = `${percentDone}% done`;\n",
              "\n",
              "    } while (position < fileData.byteLength);\n",
              "  }\n",
              "\n",
              "  // All done.\n",
              "  yield {\n",
              "    response: {\n",
              "      action: 'complete',\n",
              "    }\n",
              "  };\n",
              "}\n",
              "\n",
              "scope.google = scope.google || {};\n",
              "scope.google.colab = scope.google.colab || {};\n",
              "scope.google.colab._files = {\n",
              "  _uploadFiles,\n",
              "  _uploadFilesContinue,\n",
              "};\n",
              "})(self);\n",
              "</script> "
            ]
          },
          "metadata": {}
        },
        {
          "output_type": "stream",
          "name": "stdout",
          "text": [
            "Saving pollution.csv to pollution.csv\n"
          ]
        }
      ],
      "source": [
        "from google.colab import files\n",
        "uploaded=files.upload()"
      ]
    },
    {
      "cell_type": "code",
      "source": [
        "import numpy as np\n",
        "import pandas as pd"
      ],
      "metadata": {
        "id": "iL2RYgw72TPq"
      },
      "execution_count": null,
      "outputs": []
    },
    {
      "cell_type": "markdown",
      "source": [
        "1. Load dataset and handle missing values"
      ],
      "metadata": {
        "id": "vM8x6EU54mbB"
      }
    },
    {
      "cell_type": "code",
      "source": [
        "df = pd.read_csv(\"/content/pollution.csv\")\n",
        "df.fillna(method=\"ffill\", inplace=True)"
      ],
      "metadata": {
        "colab": {
          "base_uri": "https://localhost:8080/"
        },
        "id": "B-1Hfpbi2VPe",
        "outputId": "15d93964-2819-4037-c110-e768546e3e44"
      },
      "execution_count": null,
      "outputs": [
        {
          "output_type": "stream",
          "name": "stderr",
          "text": [
            "<ipython-input-16-20d034a216a9>:2: FutureWarning: DataFrame.fillna with 'method' is deprecated and will raise in a future version. Use obj.ffill() or obj.bfill() instead.\n",
            "  df.fillna(method=\"ffill\", inplace=True)\n"
          ]
        }
      ]
    },
    {
      "cell_type": "code",
      "source": [
        "print(df.columns)"
      ],
      "metadata": {
        "colab": {
          "base_uri": "https://localhost:8080/"
        },
        "id": "C7dzJe4P3e20",
        "outputId": "750cb0ee-5c9a-4a88-c3a1-391b50aeb0f7"
      },
      "execution_count": null,
      "outputs": [
        {
          "output_type": "stream",
          "name": "stdout",
          "text": [
            "Index(['Unnamed: 0', 'State Code', 'County Code', 'Site Num', 'Address',\n",
            "       'State', 'County', 'City', 'Date Local', 'NO2 Units', 'NO2 Mean',\n",
            "       'NO2 1st Max Value', 'NO2 1st Max Hour', 'NO2 AQI', 'O3 Units',\n",
            "       'O3 Mean', 'O3 1st Max Value', 'O3 1st Max Hour', 'O3 AQI', 'SO2 Units',\n",
            "       'SO2 Mean', 'SO2 1st Max Value', 'SO2 1st Max Hour', 'SO2 AQI',\n",
            "       'CO Units', 'CO Mean', 'CO 1st Max Value', 'CO 1st Max Hour', 'CO AQI'],\n",
            "      dtype='object')\n"
          ]
        }
      ]
    },
    {
      "cell_type": "markdown",
      "source": [
        "2. Trends in air pollution across different cities"
      ],
      "metadata": {
        "id": "h0hvqAIc4yai"
      }
    },
    {
      "cell_type": "code",
      "source": [
        "# Average AQI per City\n",
        "city_pollution = df.groupby(\"City\")[[\"NO2 AQI\", \"O3 AQI\", \"SO2 AQI\", \"CO AQI\"]].mean()\n",
        "city_pollution = city_pollution.sort_values(by=[\"NO2 AQI\"], ascending=False)\n",
        "print(\"Trends in air pollution across different cities: \")\n",
        "print(city_pollution)"
      ],
      "metadata": {
        "colab": {
          "base_uri": "https://localhost:8080/"
        },
        "id": "Ah8KEbxJ4xtq",
        "outputId": "07b17253-7346-44ae-e071-4f0bd6511c89"
      },
      "execution_count": null,
      "outputs": [
        {
          "output_type": "stream",
          "name": "stdout",
          "text": [
            "Trends in air pollution across different cities: \n",
            "                             NO2 AQI     O3 AQI    SO2 AQI     CO AQI\n",
            "City                                                                 \n",
            "Bakersfield                51.903226  30.373272   8.654378  16.276498\n",
            "Chicago                    46.869258  17.519435  17.763251  10.213781\n",
            "Hawthorne                  44.988753  32.355276   8.273569  17.139927\n",
            "Burbank                    44.419608  40.015580   2.662745  12.615050\n",
            "Mexicali                   42.904368  37.144368   9.215172  21.656322\n",
            "...                              ...        ...        ...        ...\n",
            "Presque Isle                5.172913  27.991466   1.362078   1.924007\n",
            "Capitan                     4.848215  41.397439   2.408717   2.476342\n",
            "Cornwall                    4.736168  37.490869   1.053693   1.979831\n",
            "Grantsville                 4.347651  39.145638   3.407383   1.984899\n",
            "Vandenberg Air Force Base   2.049625  35.540031   1.358189   1.604788\n",
            "\n",
            "[144 rows x 4 columns]\n"
          ]
        }
      ]
    },
    {
      "cell_type": "markdown",
      "source": [
        "3. Most and least polluted months"
      ],
      "metadata": {
        "id": "dzWibE6I5oh6"
      }
    },
    {
      "cell_type": "code",
      "source": [
        "df[\"Month\"] = df[\"Date Local\"].dt.month\n",
        "monthly_pollution = df.groupby(\"Month\")[[\"NO2 AQI\", \"O3 AQI\", \"SO2 AQI\", \"CO AQI\"]].mean()\n",
        "print(\"Most Polluted Month: \",monthly_pollution.mean(axis=1).idxmax())\n",
        "print(\"Least Polluted Month: \",monthly_pollution.mean(axis=1).idxmin())"
      ],
      "metadata": {
        "colab": {
          "base_uri": "https://localhost:8080/"
        },
        "id": "TkSUbas55nxD",
        "outputId": "86afdc3e-c055-48cc-a821-1749f152bd1b"
      },
      "execution_count": null,
      "outputs": [
        {
          "output_type": "stream",
          "name": "stdout",
          "text": [
            "Most Polluted Month:  8\n",
            "Least Polluted Month:  12\n"
          ]
        }
      ]
    },
    {
      "cell_type": "markdown",
      "source": [
        "4. Correlation between different pollution"
      ],
      "metadata": {
        "id": "jL_4JoG26Orc"
      }
    },
    {
      "cell_type": "code",
      "source": [
        "pollutants = [\"NO2 Mean\", \"O3 Mean\", \"SO2 Mean\", \"CO Mean\"]\n",
        "correlation_matrix = df[pollutants].corr()\n",
        "print(\"Correlation Matrix Between Pollutants: \")\n",
        "print(correlation_matrix)"
      ],
      "metadata": {
        "colab": {
          "base_uri": "https://localhost:8080/"
        },
        "id": "n8tAxDNm6YNC",
        "outputId": "4514f5a3-9156-498f-a4d0-d6d38542676e"
      },
      "execution_count": null,
      "outputs": [
        {
          "output_type": "stream",
          "name": "stdout",
          "text": [
            "Correlation Matrix Between Pollutants: \n",
            "          NO2 Mean   O3 Mean  SO2 Mean   CO Mean\n",
            "NO2 Mean  1.000000 -0.432650  0.348186  0.641828\n",
            "O3 Mean  -0.432650  1.000000 -0.110401 -0.339426\n",
            "SO2 Mean  0.348186 -0.110401  1.000000  0.215216\n",
            "CO Mean   0.641828 -0.339426  0.215216  1.000000\n"
          ]
        }
      ]
    },
    {
      "cell_type": "markdown",
      "source": [
        "5. Impact of pollution levels over time"
      ],
      "metadata": {
        "id": "JfStlbsj6iU9"
      }
    },
    {
      "cell_type": "code",
      "source": [
        "# Convert Date Local to datetime format\n",
        "df[\"Date Local\"] = pd.to_datetime(df[\"Date Local\"], errors=\"coerce\")\n",
        "daily_aqi = df.groupby(\"Date Local\")[[\"NO2 AQI\", \"O3 AQI\", \"SO2 AQI\", \"CO AQI\"]].mean()\n",
        "print(\"\\nDaily Air Pollution Trend:\")\n",
        "print(daily_aqi.head())"
      ],
      "metadata": {
        "colab": {
          "base_uri": "https://localhost:8080/"
        },
        "id": "gRCVLboe3ucM",
        "outputId": "97ad1cbe-8982-43fd-9547-f6dc21e2f7b4"
      },
      "execution_count": null,
      "outputs": [
        {
          "output_type": "stream",
          "name": "stdout",
          "text": [
            "\n",
            "Daily Air Pollution Trend:\n",
            "              NO2 AQI     O3 AQI    SO2 AQI     CO AQI\n",
            "Date Local                                            \n",
            "2000-01-01  32.307692  23.974359  13.384615  16.716129\n",
            "2000-01-02  27.184211  26.973684  11.315789  12.526316\n",
            "2000-01-03  37.233766  19.038961  11.454545  14.883117\n",
            "2000-01-04  38.650000  18.150000  10.125000  17.481250\n",
            "2000-01-05  38.700000  21.675000  11.375000  17.843750\n"
          ]
        }
      ]
    }
  ]
}